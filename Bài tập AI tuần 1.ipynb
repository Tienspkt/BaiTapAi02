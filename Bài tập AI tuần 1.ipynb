{
  "nbformat": 4,
  "nbformat_minor": 0,
  "metadata": {
    "colab": {
      "provenance": [],
      "authorship_tag": "ABX9TyN7Z/G+X3NpsiYjltrmqOkb",
      "include_colab_link": true
    },
    "kernelspec": {
      "name": "python3",
      "display_name": "Python 3"
    },
    "language_info": {
      "name": "python"
    }
  },
  "cells": [
    {
      "cell_type": "markdown",
      "metadata": {
        "id": "view-in-github",
        "colab_type": "text"
      },
      "source": [
        "<a href=\"https://colab.research.google.com/github/Tienspkt/google-colab/blob/main/B%C3%A0i%20t%E1%BA%ADp%20AI%20tu%E1%BA%A7n%201.ipynb\" target=\"_parent\"><img src=\"https://colab.research.google.com/assets/colab-badge.svg\" alt=\"Open In Colab\"/></a>"
      ]
    },
    {
      "cell_type": "code",
      "execution_count": null,
      "metadata": {
        "colab": {
          "base_uri": "https://localhost:8080/"
        },
        "id": "7d9klDiM0g8U",
        "outputId": "94cfd695-5659-43a1-88b2-5d239188a426"
      },
      "outputs": [
        {
          "name": "stdout",
          "output_type": "stream",
          "text": [
            "nhập vào số đầu tiên7\n"
          ]
        }
      ],
      "source": [
        "Value1 = input('nhập vào số đầu tiên')\n"
      ]
    },
    {
      "cell_type": "code",
      "source": [
        "Value2 = input(' nhập vào số thứ 2 ')"
      ],
      "metadata": {
        "colab": {
          "base_uri": "https://localhost:8080/"
        },
        "id": "z4Zs2uWU1Kmd",
        "outputId": "df04e7de-5b72-449c-97b6-ff4b8b79c062"
      },
      "execution_count": null,
      "outputs": [
        {
          "name": "stdout",
          "output_type": "stream",
          "text": [
            " nhập vào số thứ 2 3\n"
          ]
        }
      ]
    },
    {
      "cell_type": "code",
      "source": [
        "Value1+Value2"
      ],
      "metadata": {
        "colab": {
          "base_uri": "https://localhost:8080/",
          "height": 36
        },
        "id": "Nl7onWI91m5R",
        "outputId": "f5051893-cba5-41d2-88f1-a9270a2551c6"
      },
      "execution_count": null,
      "outputs": [
        {
          "output_type": "execute_result",
          "data": {
            "text/plain": [
              "'73'"
            ],
            "application/vnd.google.colaboratory.intrinsic+json": {
              "type": "string"
            }
          },
          "metadata": {},
          "execution_count": 4
        }
      ]
    },
    {
      "cell_type": "code",
      "source": [
        "with open ('text1.txt',mode = 'r') as accounts:\n",
        "  print(f'{\"Mssv\"  :<10}{\"Name\" : <20}{\"Score\" :> 4}')\n",
        "  for record in accounts:\n",
        "    mssv,name,score = record.split()\n",
        "    print(f'{\"mssv\"  :<10}{\"name\" : <20}{\"score\" :> 4}')"
      ],
      "metadata": {
        "colab": {
          "base_uri": "https://localhost:8080/",
          "height": 243
        },
        "id": "qHPoprar5UWn",
        "outputId": "97a10ad2-b4b6-4c05-9153-469bf700c762"
      },
      "execution_count": null,
      "outputs": [
        {
          "output_type": "error",
          "ename": "ValueError",
          "evalue": "ignored",
          "traceback": [
            "\u001b[0;31m---------------------------------------------------------------------------\u001b[0m",
            "\u001b[0;31mValueError\u001b[0m                                Traceback (most recent call last)",
            "\u001b[0;32m<ipython-input-26-2ad67893df36>\u001b[0m in \u001b[0;36m<module>\u001b[0;34m\u001b[0m\n\u001b[1;32m      1\u001b[0m \u001b[0;32mwith\u001b[0m \u001b[0mopen\u001b[0m \u001b[0;34m(\u001b[0m\u001b[0;34m'text1.txt'\u001b[0m\u001b[0;34m,\u001b[0m\u001b[0mmode\u001b[0m \u001b[0;34m=\u001b[0m \u001b[0;34m'r'\u001b[0m\u001b[0;34m)\u001b[0m \u001b[0;32mas\u001b[0m \u001b[0maccounts\u001b[0m\u001b[0;34m:\u001b[0m\u001b[0;34m\u001b[0m\u001b[0;34m\u001b[0m\u001b[0m\n\u001b[0;32m----> 2\u001b[0;31m   \u001b[0mprint\u001b[0m\u001b[0;34m(\u001b[0m\u001b[0;34mf'{\"Mssv\"  :<10}{\"Name\" : <20}{\"Score\" :> 4}'\u001b[0m\u001b[0;34m)\u001b[0m\u001b[0;34m\u001b[0m\u001b[0;34m\u001b[0m\u001b[0m\n\u001b[0m\u001b[1;32m      3\u001b[0m   \u001b[0;32mfor\u001b[0m \u001b[0mrecord\u001b[0m \u001b[0;32min\u001b[0m \u001b[0maccounts\u001b[0m\u001b[0;34m:\u001b[0m\u001b[0;34m\u001b[0m\u001b[0;34m\u001b[0m\u001b[0m\n\u001b[1;32m      4\u001b[0m     \u001b[0mmssv\u001b[0m\u001b[0;34m,\u001b[0m\u001b[0mname\u001b[0m\u001b[0;34m,\u001b[0m\u001b[0mscore\u001b[0m \u001b[0;34m=\u001b[0m \u001b[0mrecord\u001b[0m\u001b[0;34m.\u001b[0m\u001b[0msplit\u001b[0m\u001b[0;34m(\u001b[0m\u001b[0;34m)\u001b[0m\u001b[0;34m\u001b[0m\u001b[0;34m\u001b[0m\u001b[0m\n\u001b[1;32m      5\u001b[0m     \u001b[0mprint\u001b[0m\u001b[0;34m(\u001b[0m\u001b[0;34mf'{\"mssv\"  :<10}{\"name\" : <20}{\"score\" :> 4}'\u001b[0m\u001b[0;34m)\u001b[0m\u001b[0;34m\u001b[0m\u001b[0;34m\u001b[0m\u001b[0m\n",
            "\u001b[0;31mValueError\u001b[0m: Sign not allowed in string format specifier"
          ]
        }
      ]
    },
    {
      "cell_type": "code",
      "source": [
        "with open('text.txt',mode ='w') as accounts:\n",
        "        accounts.write('20146196 Lê Minh Tiên 8.0\\n')\n",
        "        accounts.write('20146536 Võ Tấn Thinh 8.5\\n')\n",
        "        accounts.write('20146178 Võ Văn Thuận 8.0\\n')\n",
        "        accounts.write('20146896 Lê Tấn Lộc 8.0\\n')\n",
        "        accounts.write('20146834 Nguyễn Văn A 8.0\\n')\n",
        "        accounts.write('20146894 Nguyễn Văn E 8.2\\n')\n",
        "        accounts.write('20146844 Nguyễn Văn B 8.0\\n')\n",
        "        accounts.write('20146855 Nguyễn Văn V 8.1\\n')\n",
        "        accounts.write('20146934 Nguyễn Văn K 8.0\\n')\n",
        "        accounts.write('20146834 Nguyễn Văn H 8.0\\n')\n"
      ],
      "metadata": {
        "id": "DIcQ8MoC12oM"
      },
      "execution_count": null,
      "outputs": []
    },
    {
      "cell_type": "code",
      "source": [
        "with open('text1.txt', mode = 'w') as accounts:\n",
        "    print('20146196 Lê Minh tiên 8.1', file = accounts)\n"
      ],
      "metadata": {
        "id": "sYcS9SSY4dGk"
      },
      "execution_count": null,
      "outputs": []
    },
    {
      "cell_type": "code",
      "source": [
        "from pandas.io.formats.style_render import DataFrame\n",
        "import pandas as pd\n",
        "url = 'bt022.csv'\n",
        "dataframe = pd.read_csv(url)\n",
        "dataframe.head(20) "
      ],
      "metadata": {
        "colab": {
          "base_uri": "https://localhost:8080/",
          "height": 488
        },
        "id": "x7gqcunY-yWP",
        "outputId": "4d8c24da-a17c-4ade-e50a-1e17756887b9"
      },
      "execution_count": null,
      "outputs": [
        {
          "output_type": "execute_result",
          "data": {
            "text/plain": [
              "        MSSV;Họ Và Tên;Khóa;Khoa;Điểm \n",
              "0       20146196;Lê Minh Tiên;20;CKM;9\n",
              "1      21116256;Nguyễn Văn A;21;CKM;10\n",
              "2        19156263;Lê Minh Tèo;19;CKM;8\n",
              "3          19185642;Võ Văn C;19;DDT;10\n",
              "4           22001568;Võ Văn M;22;DĐT;8\n",
              "5      20146536;Võ Tấn Thịnh;20;CKM;10\n",
              "6      20146135;Nguyễn Xuân X;20;DDT;9\n",
              "7          19456525;Võ Xuân T;19;CKM;8\n",
              "8      18552525;Nguyễn Phúc T;18;CKM;7\n",
              "9          21036561;Lê Xuân T;21;DDT;8\n",
              "10      22012512;Nguyễn Anh T;22;CKM;8\n",
              "11         17522552;Võ Tú Tài;17;DDT;9\n",
              "12     22554225;Nguyễn Anh A;22;CKM;10\n",
              "13  17558646;Nguyễn anh quốc;17;DDT;10"
            ],
            "text/html": [
              "\n",
              "  <div id=\"df-79534f39-6626-489b-a6d4-15573a1a6133\">\n",
              "    <div class=\"colab-df-container\">\n",
              "      <div>\n",
              "<style scoped>\n",
              "    .dataframe tbody tr th:only-of-type {\n",
              "        vertical-align: middle;\n",
              "    }\n",
              "\n",
              "    .dataframe tbody tr th {\n",
              "        vertical-align: top;\n",
              "    }\n",
              "\n",
              "    .dataframe thead th {\n",
              "        text-align: right;\n",
              "    }\n",
              "</style>\n",
              "<table border=\"1\" class=\"dataframe\">\n",
              "  <thead>\n",
              "    <tr style=\"text-align: right;\">\n",
              "      <th></th>\n",
              "      <th>MSSV;Họ Và Tên;Khóa;Khoa;Điểm</th>\n",
              "    </tr>\n",
              "  </thead>\n",
              "  <tbody>\n",
              "    <tr>\n",
              "      <th>0</th>\n",
              "      <td>20146196;Lê Minh Tiên;20;CKM;9</td>\n",
              "    </tr>\n",
              "    <tr>\n",
              "      <th>1</th>\n",
              "      <td>21116256;Nguyễn Văn A;21;CKM;10</td>\n",
              "    </tr>\n",
              "    <tr>\n",
              "      <th>2</th>\n",
              "      <td>19156263;Lê Minh Tèo;19;CKM;8</td>\n",
              "    </tr>\n",
              "    <tr>\n",
              "      <th>3</th>\n",
              "      <td>19185642;Võ Văn C;19;DDT;10</td>\n",
              "    </tr>\n",
              "    <tr>\n",
              "      <th>4</th>\n",
              "      <td>22001568;Võ Văn M;22;DĐT;8</td>\n",
              "    </tr>\n",
              "    <tr>\n",
              "      <th>5</th>\n",
              "      <td>20146536;Võ Tấn Thịnh;20;CKM;10</td>\n",
              "    </tr>\n",
              "    <tr>\n",
              "      <th>6</th>\n",
              "      <td>20146135;Nguyễn Xuân X;20;DDT;9</td>\n",
              "    </tr>\n",
              "    <tr>\n",
              "      <th>7</th>\n",
              "      <td>19456525;Võ Xuân T;19;CKM;8</td>\n",
              "    </tr>\n",
              "    <tr>\n",
              "      <th>8</th>\n",
              "      <td>18552525;Nguyễn Phúc T;18;CKM;7</td>\n",
              "    </tr>\n",
              "    <tr>\n",
              "      <th>9</th>\n",
              "      <td>21036561;Lê Xuân T;21;DDT;8</td>\n",
              "    </tr>\n",
              "    <tr>\n",
              "      <th>10</th>\n",
              "      <td>22012512;Nguyễn Anh T;22;CKM;8</td>\n",
              "    </tr>\n",
              "    <tr>\n",
              "      <th>11</th>\n",
              "      <td>17522552;Võ Tú Tài;17;DDT;9</td>\n",
              "    </tr>\n",
              "    <tr>\n",
              "      <th>12</th>\n",
              "      <td>22554225;Nguyễn Anh A;22;CKM;10</td>\n",
              "    </tr>\n",
              "    <tr>\n",
              "      <th>13</th>\n",
              "      <td>17558646;Nguyễn anh quốc;17;DDT;10</td>\n",
              "    </tr>\n",
              "  </tbody>\n",
              "</table>\n",
              "</div>\n",
              "      <button class=\"colab-df-convert\" onclick=\"convertToInteractive('df-79534f39-6626-489b-a6d4-15573a1a6133')\"\n",
              "              title=\"Convert this dataframe to an interactive table.\"\n",
              "              style=\"display:none;\">\n",
              "        \n",
              "  <svg xmlns=\"http://www.w3.org/2000/svg\" height=\"24px\"viewBox=\"0 0 24 24\"\n",
              "       width=\"24px\">\n",
              "    <path d=\"M0 0h24v24H0V0z\" fill=\"none\"/>\n",
              "    <path d=\"M18.56 5.44l.94 2.06.94-2.06 2.06-.94-2.06-.94-.94-2.06-.94 2.06-2.06.94zm-11 1L8.5 8.5l.94-2.06 2.06-.94-2.06-.94L8.5 2.5l-.94 2.06-2.06.94zm10 10l.94 2.06.94-2.06 2.06-.94-2.06-.94-.94-2.06-.94 2.06-2.06.94z\"/><path d=\"M17.41 7.96l-1.37-1.37c-.4-.4-.92-.59-1.43-.59-.52 0-1.04.2-1.43.59L10.3 9.45l-7.72 7.72c-.78.78-.78 2.05 0 2.83L4 21.41c.39.39.9.59 1.41.59.51 0 1.02-.2 1.41-.59l7.78-7.78 2.81-2.81c.8-.78.8-2.07 0-2.86zM5.41 20L4 18.59l7.72-7.72 1.47 1.35L5.41 20z\"/>\n",
              "  </svg>\n",
              "      </button>\n",
              "      \n",
              "  <style>\n",
              "    .colab-df-container {\n",
              "      display:flex;\n",
              "      flex-wrap:wrap;\n",
              "      gap: 12px;\n",
              "    }\n",
              "\n",
              "    .colab-df-convert {\n",
              "      background-color: #E8F0FE;\n",
              "      border: none;\n",
              "      border-radius: 50%;\n",
              "      cursor: pointer;\n",
              "      display: none;\n",
              "      fill: #1967D2;\n",
              "      height: 32px;\n",
              "      padding: 0 0 0 0;\n",
              "      width: 32px;\n",
              "    }\n",
              "\n",
              "    .colab-df-convert:hover {\n",
              "      background-color: #E2EBFA;\n",
              "      box-shadow: 0px 1px 2px rgba(60, 64, 67, 0.3), 0px 1px 3px 1px rgba(60, 64, 67, 0.15);\n",
              "      fill: #174EA6;\n",
              "    }\n",
              "\n",
              "    [theme=dark] .colab-df-convert {\n",
              "      background-color: #3B4455;\n",
              "      fill: #D2E3FC;\n",
              "    }\n",
              "\n",
              "    [theme=dark] .colab-df-convert:hover {\n",
              "      background-color: #434B5C;\n",
              "      box-shadow: 0px 1px 3px 1px rgba(0, 0, 0, 0.15);\n",
              "      filter: drop-shadow(0px 1px 2px rgba(0, 0, 0, 0.3));\n",
              "      fill: #FFFFFF;\n",
              "    }\n",
              "  </style>\n",
              "\n",
              "      <script>\n",
              "        const buttonEl =\n",
              "          document.querySelector('#df-79534f39-6626-489b-a6d4-15573a1a6133 button.colab-df-convert');\n",
              "        buttonEl.style.display =\n",
              "          google.colab.kernel.accessAllowed ? 'block' : 'none';\n",
              "\n",
              "        async function convertToInteractive(key) {\n",
              "          const element = document.querySelector('#df-79534f39-6626-489b-a6d4-15573a1a6133');\n",
              "          const dataTable =\n",
              "            await google.colab.kernel.invokeFunction('convertToInteractive',\n",
              "                                                     [key], {});\n",
              "          if (!dataTable) return;\n",
              "\n",
              "          const docLinkHtml = 'Like what you see? Visit the ' +\n",
              "            '<a target=\"_blank\" href=https://colab.research.google.com/notebooks/data_table.ipynb>data table notebook</a>'\n",
              "            + ' to learn more about interactive tables.';\n",
              "          element.innerHTML = '';\n",
              "          dataTable['output_type'] = 'display_data';\n",
              "          await google.colab.output.renderOutput(dataTable, element);\n",
              "          const docLink = document.createElement('div');\n",
              "          docLink.innerHTML = docLinkHtml;\n",
              "          element.appendChild(docLink);\n",
              "        }\n",
              "      </script>\n",
              "    </div>\n",
              "  </div>\n",
              "  "
            ]
          },
          "metadata": {},
          "execution_count": 36
        }
      ]
    },
    {
      "cell_type": "code",
      "source": [
        "dataframe.iloc[10]"
      ],
      "metadata": {
        "colab": {
          "base_uri": "https://localhost:8080/"
        },
        "id": "IljX428zBF8f",
        "outputId": "fcafd155-6b1c-419e-9bc5-0a7785abb75d"
      },
      "execution_count": null,
      "outputs": [
        {
          "output_type": "execute_result",
          "data": {
            "text/plain": [
              "MSSV;Họ Và Tên ;Khóa;Khoa;Điểm     22012512;Nguyễn Anh T;22;CKM;8\n",
              "Name: 10, dtype: object"
            ]
          },
          "metadata": {},
          "execution_count": 28
        }
      ]
    },
    {
      "cell_type": "code",
      "source": [
        "import pandas as pd\n",
        "import numpy as np\n",
        "ulr='bt1.csv'\n",
        "dataframe = pd.read_csv(ulr)\n",
        "dataframe.head(20)\n",
        "#dataframe.iloc[:4]\n",
        "#datafarmw.iloc[0]\n",
        "#datafarmw.iloc[0:4]\n",
        "#frame = dataframe.set_index(dataframe['Họ và Tên'])\n",
        "#frame.loc['Võ Tấn Thinh']\n",
        "#dataframe[dataframe['khoa']=='CKM'].head(10)\n",
        "#dataframe[(dataframe['khoa']=='CKM') & (dataframe['Khóa']==2020)]\n",
        "#dataframe['Khóa'].min()\n",
        "#dataframe['Khóa'].max()\n",
        "#dataframe['Điểm'].min()\n",
        "#dataframe['Điểm'].max()\n",
        "#dataframe['Điểm'].sum()\n",
        "#dataframe['Điểm'].count()\n",
        "#dataframe['khoa'].unique()#lấy số đơn vị trong cột khoa\n",
        "#dataframe['khoa'].value_counts()\n",
        "#dataframe.drop('khoa',axis=1).head(20) #xóa cột khoa\n",
        "#dataframe.drop(['khoa','Khóa'],axis=1).head(20) #xóa 2 cột khoa và khóa\n",
        "#dataframe[dataframe['Khóa']!=2019].head(20) # xóa từ khoa 2019\n",
        "#dataframe.groupby('khoa').head(20)# đêm số lương \n",
        "#dataframe.groupby('Khóa').count() # đém số lượng\n",
        "#dataframe.groupby(['Khóa','khoa']).head(20)\n",
        "#dataframe.groupby(['Khóa','khoa']).count()\n",
        "\n",
        "# code lấy dữ liệu \n",
        "#time = pd.date_range ('16/02/2022',periods = 100000 , freq = '30s')\n",
        "#dataframe = pd.DataFrame (index = time)\n",
        "#dataframe['Acess_Amount']=np.random.randint(1,10,100000)\n",
        "#dataframe.resample('w').sum()  # w là tuần , D là này , M là tháng\n",
        "\n",
        "\n",
        "\n"
      ],
      "metadata": {
        "colab": {
          "base_uri": "https://localhost:8080/",
          "height": 237
        },
        "id": "-rM_UM3FD_Gd",
        "outputId": "4f010348-8f78-47bd-fa22-f6b39f28b85a"
      },
      "execution_count": null,
      "outputs": [
        {
          "output_type": "execute_result",
          "data": {
            "text/plain": [
              "            Acess_Amount\n",
              "2024-02-18         43608\n",
              "2024-02-25        101619\n",
              "2024-03-03        101010\n",
              "2024-03-10        100844\n",
              "2024-03-17        101037\n",
              "2024-03-24         53592"
            ],
            "text/html": [
              "\n",
              "  <div id=\"df-730250c9-4f33-43e9-98e4-813eb50eb7e4\">\n",
              "    <div class=\"colab-df-container\">\n",
              "      <div>\n",
              "<style scoped>\n",
              "    .dataframe tbody tr th:only-of-type {\n",
              "        vertical-align: middle;\n",
              "    }\n",
              "\n",
              "    .dataframe tbody tr th {\n",
              "        vertical-align: top;\n",
              "    }\n",
              "\n",
              "    .dataframe thead th {\n",
              "        text-align: right;\n",
              "    }\n",
              "</style>\n",
              "<table border=\"1\" class=\"dataframe\">\n",
              "  <thead>\n",
              "    <tr style=\"text-align: right;\">\n",
              "      <th></th>\n",
              "      <th>Acess_Amount</th>\n",
              "    </tr>\n",
              "  </thead>\n",
              "  <tbody>\n",
              "    <tr>\n",
              "      <th>2024-02-18</th>\n",
              "      <td>43608</td>\n",
              "    </tr>\n",
              "    <tr>\n",
              "      <th>2024-02-25</th>\n",
              "      <td>101619</td>\n",
              "    </tr>\n",
              "    <tr>\n",
              "      <th>2024-03-03</th>\n",
              "      <td>101010</td>\n",
              "    </tr>\n",
              "    <tr>\n",
              "      <th>2024-03-10</th>\n",
              "      <td>100844</td>\n",
              "    </tr>\n",
              "    <tr>\n",
              "      <th>2024-03-17</th>\n",
              "      <td>101037</td>\n",
              "    </tr>\n",
              "    <tr>\n",
              "      <th>2024-03-24</th>\n",
              "      <td>53592</td>\n",
              "    </tr>\n",
              "  </tbody>\n",
              "</table>\n",
              "</div>\n",
              "      <button class=\"colab-df-convert\" onclick=\"convertToInteractive('df-730250c9-4f33-43e9-98e4-813eb50eb7e4')\"\n",
              "              title=\"Convert this dataframe to an interactive table.\"\n",
              "              style=\"display:none;\">\n",
              "        \n",
              "  <svg xmlns=\"http://www.w3.org/2000/svg\" height=\"24px\"viewBox=\"0 0 24 24\"\n",
              "       width=\"24px\">\n",
              "    <path d=\"M0 0h24v24H0V0z\" fill=\"none\"/>\n",
              "    <path d=\"M18.56 5.44l.94 2.06.94-2.06 2.06-.94-2.06-.94-.94-2.06-.94 2.06-2.06.94zm-11 1L8.5 8.5l.94-2.06 2.06-.94-2.06-.94L8.5 2.5l-.94 2.06-2.06.94zm10 10l.94 2.06.94-2.06 2.06-.94-2.06-.94-.94-2.06-.94 2.06-2.06.94z\"/><path d=\"M17.41 7.96l-1.37-1.37c-.4-.4-.92-.59-1.43-.59-.52 0-1.04.2-1.43.59L10.3 9.45l-7.72 7.72c-.78.78-.78 2.05 0 2.83L4 21.41c.39.39.9.59 1.41.59.51 0 1.02-.2 1.41-.59l7.78-7.78 2.81-2.81c.8-.78.8-2.07 0-2.86zM5.41 20L4 18.59l7.72-7.72 1.47 1.35L5.41 20z\"/>\n",
              "  </svg>\n",
              "      </button>\n",
              "      \n",
              "  <style>\n",
              "    .colab-df-container {\n",
              "      display:flex;\n",
              "      flex-wrap:wrap;\n",
              "      gap: 12px;\n",
              "    }\n",
              "\n",
              "    .colab-df-convert {\n",
              "      background-color: #E8F0FE;\n",
              "      border: none;\n",
              "      border-radius: 50%;\n",
              "      cursor: pointer;\n",
              "      display: none;\n",
              "      fill: #1967D2;\n",
              "      height: 32px;\n",
              "      padding: 0 0 0 0;\n",
              "      width: 32px;\n",
              "    }\n",
              "\n",
              "    .colab-df-convert:hover {\n",
              "      background-color: #E2EBFA;\n",
              "      box-shadow: 0px 1px 2px rgba(60, 64, 67, 0.3), 0px 1px 3px 1px rgba(60, 64, 67, 0.15);\n",
              "      fill: #174EA6;\n",
              "    }\n",
              "\n",
              "    [theme=dark] .colab-df-convert {\n",
              "      background-color: #3B4455;\n",
              "      fill: #D2E3FC;\n",
              "    }\n",
              "\n",
              "    [theme=dark] .colab-df-convert:hover {\n",
              "      background-color: #434B5C;\n",
              "      box-shadow: 0px 1px 3px 1px rgba(0, 0, 0, 0.15);\n",
              "      filter: drop-shadow(0px 1px 2px rgba(0, 0, 0, 0.3));\n",
              "      fill: #FFFFFF;\n",
              "    }\n",
              "  </style>\n",
              "\n",
              "      <script>\n",
              "        const buttonEl =\n",
              "          document.querySelector('#df-730250c9-4f33-43e9-98e4-813eb50eb7e4 button.colab-df-convert');\n",
              "        buttonEl.style.display =\n",
              "          google.colab.kernel.accessAllowed ? 'block' : 'none';\n",
              "\n",
              "        async function convertToInteractive(key) {\n",
              "          const element = document.querySelector('#df-730250c9-4f33-43e9-98e4-813eb50eb7e4');\n",
              "          const dataTable =\n",
              "            await google.colab.kernel.invokeFunction('convertToInteractive',\n",
              "                                                     [key], {});\n",
              "          if (!dataTable) return;\n",
              "\n",
              "          const docLinkHtml = 'Like what you see? Visit the ' +\n",
              "            '<a target=\"_blank\" href=https://colab.research.google.com/notebooks/data_table.ipynb>data table notebook</a>'\n",
              "            + ' to learn more about interactive tables.';\n",
              "          element.innerHTML = '';\n",
              "          dataTable['output_type'] = 'display_data';\n",
              "          await google.colab.output.renderOutput(dataTable, element);\n",
              "          const docLink = document.createElement('div');\n",
              "          docLink.innerHTML = docLinkHtml;\n",
              "          element.appendChild(docLink);\n",
              "        }\n",
              "      </script>\n",
              "    </div>\n",
              "  </div>\n",
              "  "
            ]
          },
          "metadata": {},
          "execution_count": 72
        }
      ]
    },
    {
      "cell_type": "code",
      "source": [
        "import pandas as pd\n",
        "url = 'http://Winterolympicsmedals.com/medals.csv'\n",
        "data = pd.read_csv(url)\n"
      ],
      "metadata": {
        "id": "FPXVMLNTFy-A"
      },
      "execution_count": null,
      "outputs": []
    }
  ]
}